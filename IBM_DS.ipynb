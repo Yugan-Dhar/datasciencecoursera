{
 "cells": [
  {
   "cell_type": "markdown",
   "id": "afb5ee46-dcc6-48ad-b6cd-dae93275c1f8",
   "metadata": {},
   "source": [
    "# Data Science Notebook\n"
   ]
  },
  {
   "cell_type": "markdown",
   "id": "740c6819-1df5-48e6-b5eb-943c27e52c0a",
   "metadata": {},
   "source": [
    "## Introduction\n",
    "Welcome to this data science notebook. In this notebook, you will find an overview of data science languages, libraries, tools, as well as some examples of arithmetic operations and unit conversion.\n"
   ]
  },
  {
   "cell_type": "markdown",
   "id": "32eee6bd-354d-448b-bedb-e0bacd403f25",
   "metadata": {},
   "source": [
    "## Data Science Languages\n",
    "- Python\n",
    "- R\n",
    "- Julia\n",
    "- SQL\n"
   ]
  },
  {
   "cell_type": "markdown",
   "id": "f9b2e45c-eef6-471f-83eb-1921a01db6af",
   "metadata": {},
   "source": [
    "## Data Science Libraries\n",
    "- NumPy\n",
    "- Pandas\n",
    "- Matplotlib\n",
    "- Scikit-learn\n",
    "- TensorFlow\n"
   ]
  },
  {
   "cell_type": "markdown",
   "id": "2e68c0be-673a-4e4d-a6b9-e5bae3e1d17c",
   "metadata": {},
   "source": [
    "## Data Science Tools\n",
    "| Tool              | Description                           |\n",
    "|-------------------|---------------------------------------|\n",
    "| Jupyter Notebook  | Interactive computing environment     |\n",
    "| Git               | Version control system                |\n",
    "| Docker            | Containerization platform             |\n",
    "| VSCode            | Code editor                           |\n"
   ]
  },
  {
   "cell_type": "markdown",
   "id": "5914bcd3-bfb9-4b0b-ad3f-b9a7680556fa",
   "metadata": {},
   "source": [
    "## Arithmetic Expression Examples\n",
    "Below are examples of simple arithmetic operations using Python.\n"
   ]
  },
  {
   "cell_type": "markdown",
   "id": "7d1d353a-552f-487b-8437-9bd707d98b5e",
   "metadata": {},
   "source": [
    "## Objectives\n",
    "- Learn about key data science languages and libraries.\n",
    "- Familiarize yourself with essential data science tools.\n",
    "- Practice arithmetic operations in Python.\n",
    "- Convert units using code examples.\n"
   ]
  },
  {
   "cell_type": "markdown",
   "id": "a34b07b7-31e4-468b-b081-3350b89e424c",
   "metadata": {},
   "source": [
    "## Author\n",
    "Yugan Dhar\n"
   ]
  },
  {
   "cell_type": "code",
   "execution_count": 6,
   "id": "f8b348b9-2bb5-48b7-b473-ea012585cd91",
   "metadata": {},
   "outputs": [
    {
     "name": "stdout",
     "output_type": "stream",
     "text": [
      "Result of (7 * 3) + 2 = 23\n"
     ]
    }
   ],
   "source": [
    "# Multiply two numbers and add a third number\n",
    "a = 7\n",
    "b = 3\n",
    "c = 2\n",
    "\n",
    "result = (a * b) + c\n",
    "print(\"Result of (7 * 3) + 2 =\", result)\n"
   ]
  },
  {
   "cell_type": "code",
   "execution_count": 7,
   "id": "739e00ea-778b-4e4d-97d6-60c4d6ac60ec",
   "metadata": {},
   "outputs": [
    {
     "name": "stdout",
     "output_type": "stream",
     "text": [
      "150 minutes is equal to 2.5 hours\n"
     ]
    }
   ],
   "source": [
    "# Convert minutes to hours\n",
    "minutes = 150\n",
    "hours = minutes / 60\n",
    "print(f\"{minutes} minutes is equal to {hours} hours\")\n"
   ]
  },
  {
   "cell_type": "code",
   "execution_count": null,
   "id": "14f8a029-5133-45d6-b486-891146fb6300",
   "metadata": {},
   "outputs": [],
   "source": []
  }
 ],
 "metadata": {
  "kernelspec": {
   "display_name": "Python 3 (ipykernel)",
   "language": "python",
   "name": "python3"
  },
  "language_info": {
   "codemirror_mode": {
    "name": "ipython",
    "version": 3
   },
   "file_extension": ".py",
   "mimetype": "text/x-python",
   "name": "python",
   "nbconvert_exporter": "python",
   "pygments_lexer": "ipython3",
   "version": "3.12.4"
  }
 },
 "nbformat": 4,
 "nbformat_minor": 5
}
